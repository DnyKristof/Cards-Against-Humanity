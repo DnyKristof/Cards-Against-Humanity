{
 "cells": [
  {
   "cell_type": "code",
   "execution_count": 11,
   "metadata": {},
   "outputs": [
    {
     "name": "stdout",
     "output_type": "stream",
     "text": [
      "Created  CAH Base Set.json\n",
      "Created  2012 Holiday Pack.json\n",
      "Created  2013 Holiday Pack.json\n",
      "Created  2014 Holiday Pack.json\n",
      "Created  90s Nostalgia Pack.json\n",
      "Created  Absurd Box Expansion.json\n",
      "Created  CAH: 2000s Nostalgia Pack.json\n",
      "Created  CAH: A.I. Pack.json\n",
      "Created  CAH: Ass Pack.json\n",
      "Created  CAH: Blue Box Expansion.json\n",
      "Created  CAH: Box Expansion.json\n",
      "Created  CAH: Canadian Conversion Kit.json\n",
      "Created  CAH: College Pack.json\n",
      "Created  CAH: Family Edition (Free Print & Play Public Beta).json\n",
      "Created  CAH: Fifth Expansion.json\n",
      "Created  CAH: First Expansion.json\n",
      "Created  CAH: Fourth Expansion.json\n",
      "Created  CAH: Green Box Expansion.json\n",
      "Created  CAH: Human Pack.json\n",
      "Created  CAH: Main Deck.json\n",
      "Created  CAH: Procedurally-Generated Cards.json\n",
      "Created  CAH: Red Box Expansion.json\n",
      "Created  CAH: Second Expansion.json\n",
      "Created  CAH: Sixth Expansion.json\n",
      "Created  CAH: Third Expansion.json\n",
      "Created  CAH: UK Conversion Kit.json\n",
      "Created  Cards Against Humanity Saves America Pack.json\n",
      "Created  ClickHole Greeting Cards Pack (Target Exclusive).json\n",
      "Created  Dad Pack.json\n",
      "Created  Desert Bus For Hope Pack.json\n",
      "Created  Fantasy Pack.json\n",
      "Created  Fascism Pack.json\n",
      "Created  Food Pack.json\n",
      "Created  Geek Pack.json\n",
      "Created  Gen Con 2018 Midterm Election Pack.json\n",
      "Created  House of Cards Pack.json\n",
      "Created  Jack White Show Pack.json\n",
      "Created  Mass Effect Pack.json\n",
      "Created  Nerd Bundle: A Few More Cards For You Nerds (Target Exclusive).json\n",
      "Created  PAX East 2013 Promo Pack A.json\n",
      "Created  PAX East 2013 Promo Pack B.json\n",
      "Created  PAX East 2013 Promo Pack C.json\n",
      "Created  PAX East 2014.json\n",
      "Created  PAX East 2014 - Panel Cards.json\n",
      "Created  PAX Prime 2013.json\n",
      "Created  PAX Prime 2014 - Panel Cards.json\n",
      "Created  PAX Prime 2014 Custom Printed Cards.json\n",
      "Created  PAX Prime 2015 Food Pack A (Mango).json\n",
      "Created  PAX Prime 2015 Food Pack B (Coconut).json\n",
      "Created  PAX Prime 2015 Food Pack C (Cherry).json\n",
      "Created  Period Pack.json\n",
      "Created  Pride Pack.json\n",
      "Created  Reject Pack.json\n",
      "Created  Reject Pack 2.json\n",
      "Created  Reject Pack 3.json\n",
      "Created  Retail Mini Pack.json\n",
      "Created  Retail Product Pack.json\n",
      "Created  Sci-Fi Pack.json\n",
      "Created  Science Pack.json\n",
      "Created  Seasons Greetings Pack.json\n",
      "Created  TableTop Pack.json\n",
      "Created  Theatre Pack.json\n",
      "Created  Theatre Pack - CATS Musical Pack.json\n",
      "Created  Vote For Hillary Pack.json\n",
      "Created  Vote For Trump Pack.json\n",
      "Created  Weed Pack.json\n",
      "Created  World Wide Web Pack.json\n"
     ]
    }
   ],
   "source": [
    "import json\n",
    "from translate import Translator\n",
    "translator = Translator(to_lang=\"hu\")\n",
    "\n",
    "with open(\"cah-cards-full.json\",\"r\",encoding=\"utf8\") as f:    \n",
    "    data = json.load(f)\n",
    "    \n",
    "\n",
    "\n",
    "\n"
   ]
  }
 ],
 "metadata": {
  "kernelspec": {
   "display_name": "Python 3",
   "language": "python",
   "name": "python3"
  },
  "language_info": {
   "codemirror_mode": {
    "name": "ipython",
    "version": 3
   },
   "file_extension": ".py",
   "mimetype": "text/x-python",
   "name": "python",
   "nbconvert_exporter": "python",
   "pygments_lexer": "ipython3",
   "version": "3.11.3"
  },
  "orig_nbformat": 4
 },
 "nbformat": 4,
 "nbformat_minor": 2
}
