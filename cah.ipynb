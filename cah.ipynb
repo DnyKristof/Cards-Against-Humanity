{
 "cells": [
  {
   "cell_type": "code",
   "execution_count": 2,
   "metadata": {},
   "outputs": [],
   "source": [
    "import json\n",
    "from translate import Translator\n",
    "import re\n",
    "translator = Translator(to_lang=\"hu\")\n",
    "regex = r\"\\bMYMEMORY\\b\"\n",
    "\n",
    "\n",
    "#with open(\"cardsets/CAH Base Set.json\",\"r\",encoding=\"utf8\") as f:    \n",
    "#    data = json.load(f)\n",
    "#    \n",
    "#towrite={\"white\" : [],\"black\": []}\n",
    "#\n",
    "#for card in data[\"white\"]:\n",
    "#    towrite[\"white\"].append({\"text\": card[\"text\"]})\n",
    "#    \n",
    "#for card in data[\"black\"]:\n",
    "#    towrite[\"black\"].append({\"text\": card[\"text\"]})\n",
    "\n",
    "#with open(\"translations/eng/CAH Base Set Full.json\",\"w\") as f:\n",
    "#    f.write(json.dumps(towrite))\n"
   ]
  },
  {
   "cell_type": "code",
   "execution_count": null,
   "metadata": {},
   "outputs": [],
   "source": [
    "with open(\"translations/eng/CAH Base Sett Partitial.json\",\"r\",encoding=\"utf8\") as f:\n",
    "    eng = json.load(f)\n",
    "\n",
    "restofeng = {\"white\" : [],\"black\" : []}\n",
    "\n",
    "with open(\"translations/hu/EEK Alapszett részleges.json\",\"r\",encoding=\"utf8\") as f:\n",
    "    hun = json.load(f)\n",
    "\n",
    "i = 1\n",
    "\n",
    "for card in eng[\"white\"]:\n",
    "    translation = translator.translate(card)\n",
    "    if re.search(regex,translation):\n",
    "        restofeng[\"white\"].append(card)\n",
    "        print(str(i)+\". : \"+card)\n",
    "        i+=1\n",
    "        with open(\"translations/eng/CAH Base Sett Partitial.json\",\"w\") as f:\n",
    "            f.write(json.dumps(restofeng))\n",
    "    else:\n",
    "        kartya = {\"hun\" : translation,\"eng\" : card}\n",
    "        hun[\"white\"].append(kartya)\n",
    "        print(str(i)+\". : \"+kartya[\"hun\"] +\" / \"+kartya[\"eng\"])\n",
    "        i+=1\n",
    "        with open(\"translations/hu/EEK Alapszett részleges.json\",\"w\") as f:\n",
    "            f.write(json.dumps(hun))\n",
    "    \n",
    "\n",
    "\n",
    "\n",
    "    \n",
    "#with open(\"translations/eng/CAH Base Set.json\",\"w\") as f:\n",
    "#    pass\n",
    "    \n",
    "#with open(\"translations/hu/EEK Alapszett.json\",\"w\") as f:\n",
    "#    f.write(json.dumps(hun))\n",
    "\n",
    "    "
   ]
  },
  {
   "cell_type": "code",
   "execution_count": 5,
   "metadata": {},
   "outputs": [
    {
     "data": {
      "text/plain": [
       "0"
      ]
     },
     "execution_count": 5,
     "metadata": {},
     "output_type": "execute_result"
    }
   ],
   "source": [
    "len(eng[\"black\"])"
   ]
  }
 ],
 "metadata": {
  "kernelspec": {
   "display_name": "Python 3",
   "language": "python",
   "name": "python3"
  },
  "language_info": {
   "codemirror_mode": {
    "name": "ipython",
    "version": 3
   },
   "file_extension": ".py",
   "mimetype": "text/x-python",
   "name": "python",
   "nbconvert_exporter": "python",
   "pygments_lexer": "ipython3",
   "version": "3.11.0"
  },
  "orig_nbformat": 4
 },
 "nbformat": 4,
 "nbformat_minor": 2
}
