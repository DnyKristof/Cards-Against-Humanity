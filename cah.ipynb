{
 "cells": [
  {
   "cell_type": "code",
   "execution_count": 2,
   "metadata": {},
   "outputs": [],
   "source": [
    "import json\n",
    "from translate import Translator\n",
    "translator = Translator(to_lang=\"hu\")\n",
    "#'MYMEMORY WARNING: YOU USED ALL AVAILABLE FREE TRANSLATIONS FOR TODAY. NEXT AVAILABLE IN  17 HOURS 33 MINUTES 12 SECONDS VISIT HTTPS://MYMEMORY.TRANSLATED.NET/DOC/USAGELIMITS.PHP TO TRANSLATE MORE'\n",
    "\n",
    "with open(\"cardsets/CAH Base Set.json\",\"r\",encoding=\"utf8\") as f:    \n",
    "    data = json.load(f)\n",
    "    \n",
    "towrite=[]\n",
    "\n",
    "for card in data[\"white\"]:\n",
    "    towrite.append({\"text\": card[\"text\"]})\n",
    "    \n",
    "for card in data[\"black\"]:\n",
    "    towrite.append({\"text\": card[\"text\"]})\n",
    "\n"
   ]
  },
  {
   "cell_type": "code",
   "execution_count": 21,
   "metadata": {},
   "outputs": [],
   "source": [
    "with open(\"translations/eng/CAH Base Set.json\",\"r\",encoding=\"utf8\") as f:\n",
    "    eng = json.load(f)\n",
    "\n",
    "hun = []\n",
    "\n",
    "for card in eng:\n",
    "    m = translator.translate(card[\"text\"])\n",
    "    eng.remove(card)\n",
    "    hun.append({\"text\" : m})\n",
    "    \n",
    "#with open(\"translations/eng/CAH Base Set.json\",\"w\") as f:\n",
    "#    pass\n",
    "    \n",
    "#with open(\"translations/hu/EEK Alapszett.json\",\"w\") as f:\n",
    "#    f.write(json.dumps(hun))\n",
    "\n",
    "    "
   ]
  },
  {
   "cell_type": "code",
   "execution_count": 3,
   "metadata": {},
   "outputs": [
    {
     "data": {
      "text/plain": [
       "'MYMEMORY WARNING: YOU USED ALL AVAILABLE FREE TRANSLATIONS FOR TODAY. NEXT AVAILABLE IN  17 HOURS 33 MINUTES 12 SECONDS VISIT HTTPS://MYMEMORY.TRANSLATED.NET/DOC/USAGELIMITS.PHP TO TRANSLATE MORE'"
      ]
     },
     "execution_count": 3,
     "metadata": {},
     "output_type": "execute_result"
    }
   ],
   "source": [
    "with open(\"translations/hu/EEK Alapszett.json\",\"r\",encoding=\"utf8\") as f:\n",
    "    data = json.load(f)\n",
    "    \n",
    "with open(\"translations/eng/CAH Base Set.json\",\"r\",encoding=\"utf8\") as f:\n",
    "    eng = json.load(f)\n",
    "    \n",
    "translator.translate(\"hel\")"
   ]
  }
 ],
 "metadata": {
  "kernelspec": {
   "display_name": "Python 3",
   "language": "python",
   "name": "python3"
  },
  "language_info": {
   "codemirror_mode": {
    "name": "ipython",
    "version": 3
   },
   "file_extension": ".py",
   "mimetype": "text/x-python",
   "name": "python",
   "nbconvert_exporter": "python",
   "pygments_lexer": "ipython3",
   "version": "3.11.3"
  },
  "orig_nbformat": 4
 },
 "nbformat": 4,
 "nbformat_minor": 2
}
